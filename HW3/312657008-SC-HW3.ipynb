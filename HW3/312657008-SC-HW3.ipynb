{
 "cells": [
  {
   "cell_type": "code",
   "execution_count": 17,
   "metadata": {
    "id": "A7wy9ljVFaRF"
   },
   "outputs": [],
   "source": [
    "import random\n",
    "import numpy as np\n",
    "import math\n",
    "from scipy.stats import norm\n",
    "import scipy.stats as stats"
   ]
  },
  {
   "cell_type": "markdown",
   "metadata": {
    "id": "zqz8taFxGo0n"
   },
   "source": [
    "# 當v ~ uniform(0, 10), w ~ uniform(0, 20)"
   ]
  },
  {
   "cell_type": "markdown",
   "metadata": {
    "id": "AKQRpw-mGzGy"
   },
   "source": [
    "#### 當樣本數很大時，模擬擲硬幣1百萬次，估計真值\n",
    "\n"
   ]
  },
  {
   "cell_type": "code",
   "execution_count": 18,
   "metadata": {
    "colab": {
     "base_uri": "https://localhost:8080/"
    },
    "id": "wP5AY6cfFfyr",
    "outputId": "63a243b4-2a06-4d0b-befe-1ee36458f915"
   },
   "outputs": [
    {
     "name": "stdout",
     "output_type": "stream",
     "text": [
      "Heads: 522740\n",
      "Tails: 477260\n",
      "當n很大時，發生正面機率(真值): 0.52274\n"
     ]
    }
   ],
   "source": [
    "n, T, H = 0, 0, 0\n",
    "\n",
    "curve = [i * math.pi / 2 + math.pi / 4 for i in range(15)]\n",
    "curve = [0] + curve\n",
    "curve = list(map(lambda x: x * 9.8, curve))\n",
    "\n",
    "num_coll = []\n",
    "\n",
    "while n < 1000000:\n",
    "    v = random.uniform(0, 10)\n",
    "    w = random.uniform(0, 20)\n",
    "    num = v * w\n",
    "    num_coll.append((v, w))\n",
    "\n",
    "    for i in range(len(curve) - 1):\n",
    "        if curve[i] <= num < curve[i + 1]:\n",
    "            if i % 2 == 0:\n",
    "                H += 1\n",
    "\n",
    "            else:\n",
    "                T += 1\n",
    "    n += 1\n",
    "\n",
    "print(\"Heads:\", H)\n",
    "print(\"Tails:\", T)\n",
    "\n",
    "theta_0 = H/n\n",
    "print(\"當n很大時，發生正面機率(真值):\",theta_0)"
   ]
  },
  {
   "cell_type": "markdown",
   "metadata": {
    "id": "cJqyLMs1G6dP"
   },
   "source": [
    "#### **jackknife**:  $\\theta=( \\bar x, s^2)$"
   ]
  },
  {
   "cell_type": "code",
   "execution_count": 19,
   "metadata": {
    "colab": {
     "base_uri": "https://localhost:8080/"
    },
    "id": "EEnZeEhyICP9",
    "outputId": "0fcc63fe-1f1c-4269-a83f-d7690ed91b0c"
   },
   "outputs": [
    {
     "name": "stdout",
     "output_type": "stream",
     "text": [
      "jackknife's MSE: 0.00024928828828827706\n"
     ]
    }
   ],
   "source": [
    "n = 0\n",
    "\n",
    "curve = [i * math.pi / 2 + math.pi / 4 for i in range(15)]\n",
    "curve = [0] + curve\n",
    "curve = list(map(lambda x: x * 9.8, curve))\n",
    "\n",
    "num_coll = []\n",
    "t_h_coll = []\n",
    "\n",
    "while n < 1000:\n",
    "    v = random.uniform(0, 10)\n",
    "    w = random.uniform(0, 20)\n",
    "    num = v * w\n",
    "    num_coll.append((v, w))\n",
    "\n",
    "    for i in range(len(curve) - 1):\n",
    "        if curve[i] <= num < curve[i + 1]:\n",
    "            if i % 2 == 0:\n",
    "                t_h_coll.append(1)\n",
    "\n",
    "            else:\n",
    "                t_h_coll.append(0)\n",
    "\n",
    "\n",
    "    n += 1\n",
    "\n",
    "theta_hat = np.mean(t_h_coll)\n",
    "\n",
    "jack_coll = []\n",
    "\n",
    "for i in range(len(t_h_coll)):\n",
    "    re_coll = t_h_coll.copy()\n",
    "    re_coll.pop(i)\n",
    "    jack_coll.append(np.mean(re_coll))\n",
    "\n",
    "\n",
    "theta_dot_hat = np.mean(jack_coll)\n",
    "\n",
    "bias_j = (n-1) * (theta_dot_hat - theta_hat)\n",
    "\n",
    "se2_j  = (n-1)/n * np.sum((jack_coll - theta_dot_hat)**2)\n",
    "\n",
    "mse_j = bias_j ** 2 + se2_j\n",
    "\n",
    "print(\"jackknife's MSE:\", mse_j)"
   ]
  },
  {
   "cell_type": "markdown",
   "metadata": {
    "id": "dw-TxsSHIut5"
   },
   "source": [
    "####   **Bootstrap**"
   ]
  },
  {
   "cell_type": "code",
   "execution_count": 20,
   "metadata": {
    "colab": {
     "base_uri": "https://localhost:8080/"
    },
    "id": "oCltyn9yIZep",
    "outputId": "c1551bc0-0142-423c-8d26-c109fa254595"
   },
   "outputs": [
    {
     "name": "stdout",
     "output_type": "stream",
     "text": [
      "bootstrap's MSE: 0.0002659037854494498\n"
     ]
    }
   ],
   "source": [
    "theta_hat = np.mean(t_h_coll)\n",
    "\n",
    "boot_coll = []\n",
    "B = 1000\n",
    "\n",
    "for i in range(B):\n",
    "    re_coll = t_h_coll.copy()\n",
    "    x_star = []\n",
    "    for i in range(n):\n",
    "        x_star.append(np.random.choice(re_coll))\n",
    "    boot_coll.append(np.mean(x_star))\n",
    "\n",
    "\n",
    "theta_dot_hat = np.mean(boot_coll)\n",
    "\n",
    "bias_b = theta_dot_hat - theta_hat\n",
    "\n",
    "se2_b  = 1/(B - 1) * np.sum((boot_coll - theta_dot_hat)** 2)\n",
    "\n",
    "mse_b = bias_b ** 2 + se2_b\n",
    "\n",
    "print(\"bootstrap's MSE:\", mse_b)"
   ]
  },
  {
   "cell_type": "markdown",
   "metadata": {
    "id": "HCweomgrJKsw"
   },
   "source": [
    "#### 95% CI for Theta by The Simple Method"
   ]
  },
  {
   "cell_type": "code",
   "execution_count": 21,
   "metadata": {
    "colab": {
     "base_uri": "https://localhost:8080/"
    },
    "id": "hbPWxj5cI_WN",
    "outputId": "ce56ebb3-a2a3-4fc1-8787-2a492d70712d"
   },
   "outputs": [
    {
     "name": "stdout",
     "output_type": "stream",
     "text": [
      "95% CI for theta by the simple method is[ 0.4990000000000001 , 0.5640000000000001 ]\n"
     ]
    }
   ],
   "source": [
    "sort_boot_coll = sorted(boot_coll)\n",
    "\n",
    "alpha = 0.05\n",
    "\n",
    "simple_v1 = math.floor((B + 1) * alpha / 2)\n",
    "\n",
    "simple_v2 = math.floor((B + 1) * (1 - alpha / 2))\n",
    "\n",
    "\n",
    "simple_LCL =  2 * theta_hat -  sort_boot_coll[simple_v2]\n",
    "\n",
    "simple_UCL =  2 * theta_hat -  sort_boot_coll[simple_v1]\n",
    "\n",
    "\n",
    "print(\"95% CI for theta by the simple method is[\", simple_LCL, \",\", simple_UCL, \"]\" )"
   ]
  },
  {
   "cell_type": "markdown",
   "metadata": {
    "id": "Sd2BktdOJF89"
   },
   "source": [
    "95% CI for Theta by The Percentile Method"
   ]
  },
  {
   "cell_type": "code",
   "execution_count": 22,
   "metadata": {
    "colab": {
     "base_uri": "https://localhost:8080/"
    },
    "id": "4idkXp-qI_mJ",
    "outputId": "da19fc81-7da6-4873-d49a-353ff0cbe697"
   },
   "outputs": [
    {
     "name": "stdout",
     "output_type": "stream",
     "text": [
      "95% CI for theta by the simple method is[ 0.4990000000000001 , 0.5640000000000001 ]\n"
     ]
    }
   ],
   "source": [
    "percentile_v1 = math.floor((B + 1) * alpha / 2)\n",
    "\n",
    "percentile_v2 = math.floor((B + 1) * (1 - alpha / 2))\n",
    "\n",
    "\n",
    "percentile_LCL =  2 * theta_hat -  sort_boot_coll[percentile_v2]\n",
    "\n",
    "percentile_UCL =  2 * theta_hat -  sort_boot_coll[percentile_v1]\n",
    "\n",
    "\n",
    "print(\"95% CI for theta by the simple method is[\", percentile_LCL, \",\", percentile_UCL, \"]\" )"
   ]
  },
  {
   "cell_type": "markdown",
   "metadata": {
    "id": "DBxhCuc6KsGQ"
   },
   "source": [
    "#### 95% CI for Theta by The BC"
   ]
  },
  {
   "cell_type": "code",
   "execution_count": 23,
   "metadata": {
    "id": "j_E5DBpqfDO2"
   },
   "outputs": [],
   "source": [
    "z_alpha = norm.ppf( 1- alpha / 2)"
   ]
  },
  {
   "cell_type": "code",
   "execution_count": 24,
   "metadata": {
    "id": "j1zKi4QrOUc3"
   },
   "outputs": [],
   "source": [
    "c = 0\n",
    "for i in range(B):\n",
    "  if boot_coll[i] <= theta_hat:\n",
    "    c += 1\n",
    "\n",
    "z0 = norm.ppf( c / B )"
   ]
  },
  {
   "cell_type": "code",
   "execution_count": 25,
   "metadata": {
    "colab": {
     "base_uri": "https://localhost:8080/"
    },
    "id": "c_v8Rv7CQpZy",
    "outputId": "94c9bc35-e2b7-4eaa-b5a0-964cb4731376"
   },
   "outputs": [
    {
     "name": "stdout",
     "output_type": "stream",
     "text": [
      "95% CI for theta by the BC is[ 0.53 , 0.533 ]\n"
     ]
    }
   ],
   "source": [
    "BC_v1 = norm.cdf(2 * z0 - z_alpha)\n",
    "BC_v2 = norm.cdf(2 * z0 + z_alpha)\n",
    "\n",
    "BC_LCL = boot_coll[math.floor((B + 1) * BC_v1)]\n",
    "BC_UCL = boot_coll[math.floor((B + 1) * BC_v2)]\n",
    "print(\"95% CI for theta by the BC is[\", BC_LCL, \",\", BC_UCL, \"]\" )"
   ]
  },
  {
   "cell_type": "markdown",
   "metadata": {
    "id": "o2lWe9MMSzH0"
   },
   "source": [
    "#### 95% CI for Theta by The BCa"
   ]
  },
  {
   "cell_type": "code",
   "execution_count": 26,
   "metadata": {
    "id": "uJnvbRp6ReeZ"
   },
   "outputs": [],
   "source": [
    "sum_a = 0\n",
    "sum_b = 0\n",
    "for i in range(len(t_h_coll)):\n",
    "  new = t_h_coll.copy()\n",
    "  del new[i]\n",
    "  sum_a += (theta_hat - np.mean(new))** 3\n",
    "  sum_b += (theta_hat - np.mean(new))** 2\n",
    "\n",
    "a_j = sum_a / (6 * ((sum_b)** (3/2)))"
   ]
  },
  {
   "cell_type": "code",
   "execution_count": 27,
   "metadata": {
    "colab": {
     "base_uri": "https://localhost:8080/"
    },
    "id": "qatNXJ7qVF-B",
    "outputId": "418e07a9-f090-4df7-d58f-b252d8958b6a"
   },
   "outputs": [
    {
     "name": "stdout",
     "output_type": "stream",
     "text": [
      "95% CI for theta by the BCa is[ 0.53 , 0.533 ]\n"
     ]
    }
   ],
   "source": [
    "beta_1 = norm.cdf(z0 + ((z0 - z_alpha)/(1 - a_j * (z0 - z_alpha))))\n",
    "beta_2 = norm.cdf(z0 + ((z0 + z_alpha)/(1 - a_j * (z0 + z_alpha))))\n",
    "\n",
    "BCa_LCL = boot_coll[math.floor((B + 1) * beta_1)]\n",
    "BCa_UCL = boot_coll[math.floor((B + 1) * beta_2)]\n",
    "print(\"95% CI for theta by the BCa is[\", BCa_LCL, \",\", BCa_UCL, \"]\" )"
   ]
  },
  {
   "cell_type": "markdown",
   "metadata": {
    "id": "_E2QdgNXJbID"
   },
   "source": [
    "#### 檢驗其是否是否接近真值出現正面機率為theta_0\n",
    "\n",
    "$H_0$: p = theta_0\n",
    "$H_A$: p ≠ theta_0\n",
    "\n",
    "使用t-test檢驗\n",
    "\n",
    "$t_0 = \\frac{\\hat{\\theta}-\\theta_0}{\\hat{\\sigma}(\\hat{\\theta})}$\n",
    "\n",
    "$t_b = \\frac{\\hat{\\theta_b}-\\theta_0}{\\hat{\\sigma}(\\hat{\\theta_b})}$\n",
    "\n",
    "計算 tb >= t0 個數除以B，以估計p-value\n"
   ]
  },
  {
   "cell_type": "code",
   "execution_count": 28,
   "metadata": {
    "colab": {
     "base_uri": "https://localhost:8080/"
    },
    "id": "RP3cAnMoJbIK",
    "outputId": "646edcdc-4644-46a2-90cc-d9bd0320127d"
   },
   "outputs": [
    {
     "name": "stdout",
     "output_type": "stream",
     "text": [
      "p-value: 0.693 大於等於0.05，沒有足夠證據顯示拒絕H0\n"
     ]
    }
   ],
   "source": [
    "theta_hat = np.mean(t_h_coll)\n",
    "s = np.std(t_h_coll)\n",
    "t0 = abs((theta_hat - theta_0)/s)\n",
    "\n",
    "b_s = np.std(boot_coll)\n",
    "\n",
    "t = ([(x - theta_0) / b_s for x in boot_coll])\n",
    "\n",
    "p_value = sum(t >= t0) / B\n",
    "if p_value < 0.05:\n",
    "  print(\"p-value:\",p_value,\"小於0.05，有足夠證據顯示拒絕H0,亦即此銅板不公正\")\n",
    "else:\n",
    "  print(\"p-value:\",p_value,\"大於等於0.05，沒有足夠證據顯示拒絕H0\")"
   ]
  },
  {
   "cell_type": "markdown",
   "metadata": {
    "id": "qnqGw7VoNumU"
   },
   "source": [
    "Bootstrap Tests by BCa"
   ]
  },
  {
   "cell_type": "code",
   "execution_count": 29,
   "metadata": {
    "id": "NRzd9UR4Nu7y"
   },
   "outputs": [
    {
     "name": "stdout",
     "output_type": "stream",
     "text": [
      "95% CI for theta by the BCa is[ 0.53 , 0.533 ]\n",
      "p-value: 0.055000000000000146\n",
      "94.500 % CI for theta by the BCa is[ 0.505 , 0.536 ]\n"
     ]
    }
   ],
   "source": [
    "print(\"95% CI for theta by the BCa is[\", BCa_LCL, \",\", BCa_UCL, \"]\" )\n",
    "if theta_0<= BCa_UCL and theta_0>= BCa_LCL:\n",
    "    print(\"theta_0 is in the 95% CI for theta by the BCa\")\n",
    "    print(\"p-value:\",alpha)\n",
    "else:\n",
    "    # 擴大信賴區間(alpha值)計算何時theta_0在裡面，此時alpha就是欲求的p-value\n",
    "    new_alpha = alpha\n",
    "    while new_alpha < 1:\n",
    "      z_alpha = norm.ppf( new_alpha / 2)\n",
    "      beta_1 = norm.cdf(z0 + ((z0 - z_alpha)/(1 - a_j * (z0 - z_alpha))))\n",
    "      beta_2 = norm.cdf(z0 + ((z0 + z_alpha)/(1 - a_j * (z0 + z_alpha))))\n",
    "      BCa_LCL = boot_coll[math.floor((B + 1) * beta_1)]\n",
    "      BCa_UCL = boot_coll[math.floor((B + 1) * beta_2)]\n",
    "      if theta_0 >= BCa_LCL and theta_0 <= BCa_UCL:\n",
    "        break\n",
    "      new_alpha += 0.0001\n",
    "    print(\"p-value:\",new_alpha)\n",
    "    print(\"{:.3f}\".format((1-round(new_alpha,4))*100),\"% CI for theta by the BCa is[\", BCa_LCL, \",\", BCa_UCL, \"]\" )"
   ]
  },
  {
   "cell_type": "markdown",
   "metadata": {},
   "source": [
    "p值於0.05，表沒有足夠證據顯示正面的機率不是theta_0"
   ]
  },
  {
   "cell_type": "markdown",
   "metadata": {
    "id": "BEjR5Rm495kZ"
   },
   "source": [
    "# 當v ~ truncnorm(0, 10), w ~ truncnorm(0, 20)"
   ]
  },
  {
   "cell_type": "markdown",
   "metadata": {
    "id": "B2RhiapB95kg"
   },
   "source": [
    "#### 當樣本數很大時, 模擬擲硬幣1百萬次，估計真值"
   ]
  },
  {
   "cell_type": "code",
   "execution_count": 30,
   "metadata": {
    "colab": {
     "base_uri": "https://localhost:8080/"
    },
    "id": "x1J2O8ir95kg",
    "outputId": "dfad9c3f-146c-41a5-debb-97de394474a6"
   },
   "outputs": [
    {
     "name": "stdout",
     "output_type": "stream",
     "text": [
      "Heads: 452913\n",
      "Tails: 547087\n",
      "當n很大時，發生正面機率(真值): 0.452913\n"
     ]
    }
   ],
   "source": [
    "n, T, H = 0, 0, 0\n",
    "\n",
    "mu_v, sigma_v = 5, 1\n",
    "lower_v, upper_v = 0, 10\n",
    "\n",
    "mu_w, sigma_w = 10, 1\n",
    "lower_w, upper_w = 0, 20\n",
    "\n",
    "\n",
    "X = stats.truncnorm((lower_v - mu_v)/sigma_v, (upper_v - mu_v)/sigma_v, loc=mu_v, scale=sigma_v)\n",
    "Y = stats.truncnorm((lower_w - mu_w)/sigma_w, (upper_w - mu_w)/sigma_w, loc=mu_w, scale=sigma_w)\n",
    "\n",
    "curve = [i * np.pi / 2 + np.pi / 4 for i in range(15)]\n",
    "curve = [0] + curve\n",
    "curve = list(map(lambda x: x * 9.8, curve))\n",
    "\n",
    "num_coll = []\n",
    "while n < 1000000:\n",
    "    v = X.rvs(1)\n",
    "    w = Y.rvs(1)\n",
    "    num = v * w\n",
    "    num_coll.append((v, w))\n",
    "    for i in range(len(curve) - 1):\n",
    "        if curve[i] <= num < curve[i + 1]:\n",
    "            if i % 2 == 0:\n",
    "                H += 1\n",
    "            else:\n",
    "                T += 1\n",
    "\n",
    "    n += 1\n",
    "\n",
    "print(\"Heads:\", H)\n",
    "print(\"Tails:\", T)\n",
    "theta_0  = H/n\n",
    "print(\"當n很大時，發生正面機率(真值):\",theta_0)"
   ]
  },
  {
   "cell_type": "markdown",
   "metadata": {
    "id": "iCuN5yCA95kg"
   },
   "source": [
    "#### **jackknife**:  $\\theta=( \\bar x, s^2)$"
   ]
  },
  {
   "cell_type": "code",
   "execution_count": 31,
   "metadata": {
    "colab": {
     "base_uri": "https://localhost:8080/"
    },
    "id": "0t7Q_W_U95kg",
    "outputId": "0f2305ec-9bab-4fe4-9993-49fa1a5fec58"
   },
   "outputs": [
    {
     "name": "stdout",
     "output_type": "stream",
     "text": [
      "jackknife's MSE: 0.00024774774774776403\n"
     ]
    }
   ],
   "source": [
    "n = 0\n",
    "\n",
    "curve = [i * math.pi / 2 + math.pi / 4 for i in range(15)]\n",
    "curve = [0] + curve\n",
    "curve = list(map(lambda x: x * 9.8, curve))\n",
    "\n",
    "mu_v, sigma_v = 5, 1\n",
    "lower_v, upper_v = 0, 10\n",
    "\n",
    "mu_w, sigma_w = 10, 1\n",
    "lower_w, upper_w = 0, 20\n",
    "\n",
    "X = stats.truncnorm((lower_v - mu_v)/sigma_v, (upper_v - mu_v)/sigma_v, loc=mu_v, scale=sigma_v)\n",
    "Y = stats.truncnorm((lower_w - mu_w)/sigma_w, (upper_w - mu_w)/sigma_w, loc=mu_w, scale=sigma_w)\n",
    "num_coll = []\n",
    "t_h_coll = []\n",
    "\n",
    "while n < 1000:\n",
    "    v = X.rvs(1)\n",
    "    w = Y.rvs(1)\n",
    "    num = v * w\n",
    "    num_coll.append((v, w))\n",
    "\n",
    "    for i in range(len(curve) - 1):\n",
    "        if curve[i] <= num < curve[i + 1]:\n",
    "            if i % 2 == 0:\n",
    "                t_h_coll.append(1)\n",
    "\n",
    "            else:\n",
    "                t_h_coll.append(0)\n",
    "\n",
    "\n",
    "    n += 1\n",
    "\n",
    "theta_hat = np.mean(t_h_coll)\n",
    "\n",
    "jack_coll = []\n",
    "\n",
    "for i in range(len(t_h_coll)):\n",
    "    re_coll = t_h_coll.copy()\n",
    "    re_coll.pop(i)\n",
    "    jack_coll.append(np.mean(re_coll))\n",
    "\n",
    "\n",
    "theta_dot_hat = np.mean(jack_coll)\n",
    "\n",
    "bias_j = (n-1) * (theta_dot_hat - theta_hat)\n",
    "\n",
    "se2_j  = (n-1)/n * np.sum((jack_coll - theta_dot_hat)**2)\n",
    "\n",
    "mse_j = bias_j ** 2 + se2_j\n",
    "\n",
    "print(\"jackknife's MSE:\", mse_j)"
   ]
  },
  {
   "cell_type": "markdown",
   "metadata": {
    "id": "3WgLLgxT95kh"
   },
   "source": [
    "#### **Bootstrap**"
   ]
  },
  {
   "cell_type": "code",
   "execution_count": 32,
   "metadata": {
    "colab": {
     "base_uri": "https://localhost:8080/"
    },
    "id": "LoioIEiT95kh",
    "outputId": "a0ad7124-19d0-4991-a390-1d0ebca45afe"
   },
   "outputs": [
    {
     "name": "stdout",
     "output_type": "stream",
     "text": [
      "bootstrap's MSE: 0.0002403333322432433\n"
     ]
    }
   ],
   "source": [
    "theta_hat = np.mean(t_h_coll)\n",
    "B = 1000\n",
    "boot_coll = []\n",
    "for i in range(B):\n",
    "    re_coll = t_h_coll.copy()\n",
    "    x_star = []\n",
    "    for i in range(n):\n",
    "        x_star.append(np.random.choice(re_coll))\n",
    "    boot_coll.append(np.mean(x_star))\n",
    "\n",
    "\n",
    "theta_dot_hat = np.mean(boot_coll)\n",
    "\n",
    "bias_b = theta_dot_hat - theta_hat\n",
    "\n",
    "se2_b  = 1/(B - 1) * np.sum((boot_coll - theta_dot_hat)** 2)\n",
    "\n",
    "mse_b = bias_b ** 2 + se2_b\n",
    "\n",
    "print(\"bootstrap's MSE:\", mse_b)"
   ]
  },
  {
   "cell_type": "markdown",
   "metadata": {
    "id": "_wDcPpK595kh"
   },
   "source": [
    "#### 95% CI for Theta by The Simple Method"
   ]
  },
  {
   "cell_type": "code",
   "execution_count": 33,
   "metadata": {
    "colab": {
     "base_uri": "https://localhost:8080/"
    },
    "id": "NT_uApGc95kh",
    "outputId": "78c65bb6-6db6-42dd-e304-b4d264ea0462"
   },
   "outputs": [
    {
     "name": "stdout",
     "output_type": "stream",
     "text": [
      "95% CI for theta by the simple method is[ 0.42000000000000004 , 0.47900000000000004 ]\n"
     ]
    }
   ],
   "source": [
    "sort_boot_coll = sorted(boot_coll)\n",
    "\n",
    "alpha = 0.05\n",
    "\n",
    "simple_v1 = math.floor((B + 1) * alpha / 2)\n",
    "\n",
    "simple_v2 = math.floor((B + 1) * (1 - alpha / 2))\n",
    "\n",
    "\n",
    "simple_LCL =  2 * theta_hat -  sort_boot_coll[simple_v2]\n",
    "\n",
    "simple_UCL =  2 * theta_hat -  sort_boot_coll[simple_v1]\n",
    "\n",
    "\n",
    "print(\"95% CI for theta by the simple method is[\", simple_LCL, \",\", simple_UCL, \"]\" )"
   ]
  },
  {
   "cell_type": "markdown",
   "metadata": {
    "id": "YKBctmKx95kh"
   },
   "source": [
    "#### 95% CI for Theta by The Percentile Method"
   ]
  },
  {
   "cell_type": "code",
   "execution_count": 34,
   "metadata": {
    "colab": {
     "base_uri": "https://localhost:8080/"
    },
    "id": "WeMJsvkc95kh",
    "outputId": "7c41702b-0a49-40c6-c44a-5c22aba2f574"
   },
   "outputs": [
    {
     "name": "stdout",
     "output_type": "stream",
     "text": [
      "95% CI for theta by the simple method is[ 0.42000000000000004 , 0.47900000000000004 ]\n"
     ]
    }
   ],
   "source": [
    "percentile_v1 = math.floor((B + 1) * alpha / 2)\n",
    "\n",
    "percentile_v2 = math.floor((B + 1) * (1 - alpha / 2))\n",
    "\n",
    "\n",
    "percentile_LCL =  2 * theta_hat -  sort_boot_coll[percentile_v2]\n",
    "\n",
    "percentile_UCL =  2 * theta_hat -  sort_boot_coll[percentile_v1]\n",
    "\n",
    "\n",
    "print(\"95% CI for theta by the simple method is[\", percentile_LCL, \",\", percentile_UCL, \"]\" )"
   ]
  },
  {
   "cell_type": "markdown",
   "metadata": {
    "id": "buGN6BxB8xck"
   },
   "source": [
    "#### 95% CI for Theta by The BC"
   ]
  },
  {
   "cell_type": "code",
   "execution_count": 35,
   "metadata": {
    "id": "w48jeth78xcl"
   },
   "outputs": [],
   "source": [
    "z_alpha = norm.ppf( 1 - alpha / 2)"
   ]
  },
  {
   "cell_type": "code",
   "execution_count": 36,
   "metadata": {
    "id": "mykJ3f_l8xcl"
   },
   "outputs": [],
   "source": [
    "c = 0\n",
    "for i in range(B):\n",
    "  if boot_coll[i] <= np.mean(t_h_coll):\n",
    "    c += 1\n",
    "\n",
    "z0 = norm.ppf( c / B )"
   ]
  },
  {
   "cell_type": "code",
   "execution_count": 37,
   "metadata": {
    "colab": {
     "base_uri": "https://localhost:8080/"
    },
    "id": "Ju1YCgLT8xcl",
    "outputId": "34c0d3b0-9487-4cf7-e654-96566727f5a0"
   },
   "outputs": [
    {
     "name": "stdout",
     "output_type": "stream",
     "text": [
      "95% CI for theta by the BC is[ 0.447 , 0.452 ]\n"
     ]
    }
   ],
   "source": [
    "BC_v1 = norm.cdf(2 * z0 - z_alpha)\n",
    "BC_v2 = norm.cdf(2 * z0 + z_alpha)\n",
    "\n",
    "BC_LCL = boot_coll[math.floor((B+1)*BC_v1)]\n",
    "BC_UCL = boot_coll[math.floor((B+1)*BC_v2)]\n",
    "print(\"95% CI for theta by the BC is[\", BC_LCL, \",\", BC_UCL, \"]\" )"
   ]
  },
  {
   "cell_type": "markdown",
   "metadata": {
    "id": "YEVoJD3_8xcl"
   },
   "source": [
    "#### 95% CI for Theta by The BCa"
   ]
  },
  {
   "cell_type": "code",
   "execution_count": 38,
   "metadata": {
    "id": "wCqXCrsu8xcm"
   },
   "outputs": [],
   "source": [
    "sum_a = 0\n",
    "sum_b = 0\n",
    "for i in range(len(t_h_coll)):\n",
    "  new = jack_coll.copy()\n",
    "  del new[i]\n",
    "  sum_a += (np.mean(jack_coll) - np.mean(new))** 3\n",
    "  sum_b += (np.mean(jack_coll) - np.mean(new))** 2\n",
    "\n",
    "a_j = sum_a / (6 * ((sum_b)** (3/2)))"
   ]
  },
  {
   "cell_type": "code",
   "execution_count": 39,
   "metadata": {
    "colab": {
     "base_uri": "https://localhost:8080/"
    },
    "id": "lRRenGJr8xcm",
    "outputId": "4d3e067e-7ed4-4381-c068-0a86bbef8d36",
    "scrolled": true
   },
   "outputs": [
    {
     "name": "stdout",
     "output_type": "stream",
     "text": [
      "95% CI for theta by the BCa is[ 0.447 , 0.445 ]\n"
     ]
    }
   ],
   "source": [
    "beta_1 = norm.cdf(z0 + (z0 - z_alpha)/(1 - a_j * (z0 - z_alpha)))\n",
    "beta_2 = norm.cdf(z0 + (z0 + z_alpha)/(1 - a_j * (z0 + z_alpha)))\n",
    "\n",
    "BCa_LCL = boot_coll[math.floor((B+1)*beta_1)]\n",
    "BCa_UCL = boot_coll[math.floor((B+1)*beta_2)]\n",
    "print(\"95% CI for theta by the BCa is[\", BCa_LCL, \",\", BCa_UCL, \"]\" )"
   ]
  },
  {
   "cell_type": "markdown",
   "metadata": {
    "id": "ARC9rRmLRqD8"
   },
   "source": [
    "#### 檢驗其是否是否接近真值出現正面機率為theta_0\n",
    "\n",
    "$H_0$: p = theta_0\n",
    "$H_A$: p ≠ theta_0\n",
    "\n",
    "使用t-test檢驗\n",
    "\n",
    "$t_0 = \\frac{\\hat{\\theta}-\\theta_0}{\\hat{\\sigma}(\\hat{\\theta})}$\n",
    "\n",
    "$t_b = \\frac{\\hat{\\theta_b}-\\theta_0}{\\hat{\\sigma}(\\hat{\\theta_b})}$\n",
    "\n",
    "計算 tb >= t0 個數除以B，以估計p-value\n"
   ]
  },
  {
   "cell_type": "code",
   "execution_count": 40,
   "metadata": {
    "colab": {
     "base_uri": "https://localhost:8080/"
    },
    "id": "VyXAxYYYRqD9",
    "outputId": "6150a24f-5df9-4304-db0c-56c13f135026"
   },
   "outputs": [
    {
     "name": "stdout",
     "output_type": "stream",
     "text": [
      "p-value: 0.411 大於等於0.05，沒有足夠證據顯示拒絕H0\n"
     ]
    }
   ],
   "source": [
    "theta_hat = np.mean(t_h_coll)\n",
    "s = np.std(t_h_coll)\n",
    "t0 = abs((theta_hat - theta_0)/s)\n",
    "\n",
    "b_s = np.std(boot_coll)\n",
    "\n",
    "t = ([(x - theta_0) / b_s for x in boot_coll])\n",
    "\n",
    "p_value = sum(t >= t0) / B\n",
    "if p_value < 0.05:\n",
    "  print(\"p-value:\",p_value,\"小於0.05，有足夠證據顯示拒絕H0,亦即此銅板不公正\")\n",
    "else:\n",
    "  print(\"p-value:\",p_value,\"大於等於0.05，沒有足夠證據顯示拒絕H0\")"
   ]
  },
  {
   "cell_type": "markdown",
   "metadata": {
    "id": "UVW_G9gJRqD-"
   },
   "source": [
    "Bootstrap Tests by BCa"
   ]
  },
  {
   "cell_type": "code",
   "execution_count": 41,
   "metadata": {
    "colab": {
     "base_uri": "https://localhost:8080/"
    },
    "id": "jYv-fF-lRqD_",
    "outputId": "cb7dbbde-d51a-45c5-c5c0-11c3ebd4aaee"
   },
   "outputs": [
    {
     "name": "stdout",
     "output_type": "stream",
     "text": [
      "95% CI for theta by the BCa is[ 0.447 , 0.445 ]\n",
      "p-value: 0.06950000000000056\n",
      "93.05 % CI for theta by the BCa is[ 0.426 , 0.481 ]\n"
     ]
    }
   ],
   "source": [
    "print(\"95% CI for theta by the BCa is[\", BCa_LCL, \",\", BCa_UCL, \"]\" )\n",
    "if theta_0<= BCa_UCL and theta_0>= BCa_LCL:\n",
    "    print(\"theta_0 is in the 95% CI for theta by the BCa\")\n",
    "    print(\"p-value:\",alpha)\n",
    "else:\n",
    "    # 擴大信賴區間(alpha值)計算何時theta_0在裡面，此時alpha就是欲求的p-value\n",
    "    new_alpha = alpha\n",
    "    while new_alpha < 1:\n",
    "      z_alpha = norm.ppf( new_alpha / 2)\n",
    "      beta_1 = norm.cdf(z0 + ((z0 - z_alpha)/(1 - a_j * (z0 - z_alpha))))\n",
    "      beta_2 = norm.cdf(z0 + ((z0 + z_alpha)/(1 - a_j * (z0 + z_alpha))))\n",
    "      BCa_LCL = boot_coll[math.floor((B + 1) * beta_1)]\n",
    "      BCa_UCL = boot_coll[math.floor((B + 1) * beta_2)]\n",
    "      if theta_0 >= BCa_LCL and theta_0 <= BCa_UCL:\n",
    "        break\n",
    "      new_alpha += 0.0001\n",
    "    print(\"p-value:\",new_alpha)\n",
    "    print(\"{:.2f}\".format((1-round(new_alpha,4))*100),\"% CI for theta by the BCa is[\", BCa_LCL, \",\", BCa_UCL, \"]\" )"
   ]
  },
  {
   "cell_type": "markdown",
   "metadata": {},
   "source": [
    "p值於0.05，表沒有足夠證據顯示正面的機率不是theta_0"
   ]
  }
 ],
 "metadata": {
  "accelerator": "GPU",
  "colab": {
   "gpuType": "T4",
   "provenance": []
  },
  "kernelspec": {
   "display_name": "Python 3 (ipykernel)",
   "language": "python",
   "name": "python3"
  },
  "language_info": {
   "codemirror_mode": {
    "name": "ipython",
    "version": 3
   },
   "file_extension": ".py",
   "mimetype": "text/x-python",
   "name": "python",
   "nbconvert_exporter": "python",
   "pygments_lexer": "ipython3",
   "version": "3.11.5"
  }
 },
 "nbformat": 4,
 "nbformat_minor": 1
}
